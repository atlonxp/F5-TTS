{
 "cells": [
  {
   "cell_type": "code",
   "execution_count": 1,
   "metadata": {
    "id": "bsvxO3kfo_sr"
   },
   "outputs": [
    {
     "name": "stdout",
     "output_type": "stream",
     "text": [
      "\u001b[33mWARNING: Retrying (Retry(total=4, connect=None, read=None, redirect=None, status=None)) after connection broken by 'NewConnectionError('<pip._vendor.urllib3.connection.HTTPSConnection object at 0x7fd6c6879180>: Failed to establish a new connection: [Errno 101] Network is unreachable')': /simple/deep-phonemizer/\u001b[0m\u001b[33m\n",
      "\u001b[0m\u001b[33mWARNING: Retrying (Retry(total=3, connect=None, read=None, redirect=None, status=None)) after connection broken by 'NewConnectionError('<pip._vendor.urllib3.connection.HTTPSConnection object at 0x7fd6c68794b0>: Failed to establish a new connection: [Errno 101] Network is unreachable')': /simple/deep-phonemizer/\u001b[0m\u001b[33m\n",
      "\u001b[0m^C\n",
      "Note: you may need to restart the kernel to use updated packages.\n"
     ]
    }
   ],
   "source": [
    "pip install deep-phonemizer"
   ]
  },
  {
   "cell_type": "code",
   "execution_count": 5,
   "metadata": {
    "id": "XRTPugZ0pL-b"
   },
   "outputs": [
    {
     "name": "stderr",
     "output_type": "stream",
     "text": [
      "/home/wjeamwat/.conda/envs/phonimizer/lib/python3.10/site-packages/torch/nn/modules/transformer.py:379: UserWarning: enable_nested_tensor is True, but self.use_nested_tensor is False because encoder_layer.self_attn.batch_first was not True(use batch_first for better inference performance)\n",
      "  warnings.warn(\n"
     ]
    }
   ],
   "source": [
    "from dp.phonemizer import Phonemizer\n",
    "phonemizer = Phonemizer.from_checkpoint('/home/wjeamwat/DeepPhonemizer/autoreg_config_th_en_names_mix_small/latest_model.pt')"
   ]
  },
  {
   "cell_type": "code",
   "execution_count": 13,
   "metadata": {
    "colab": {
     "base_uri": "https://localhost:8080/",
     "height": 35
    },
    "id": "ei9oN93rpilk",
    "outputId": "1461e27d-ba72-4249-9ecf-f98a9563dee0"
   },
   "outputs": [
    {
     "data": {
      "text/plain": [
       "'pha1s@@4khaa4w^kh@@4ng^ra0w^kh@@0n^zaa0no0n^tha3ha3koo0ta1na3koo0na3thaa4m^thaa4m^thqq0n^'"
      ]
     },
     "execution_count": 13,
     "metadata": {},
     "output_type": "execute_result"
    }
   ],
   "source": [
    "phonemizer('ผู้สื่อข่าวของเราคือคุณอานนท์นะฮะก็ตะโกนถามเธอนะฮะ', lang='th')"
   ]
  },
  {
   "cell_type": "code",
   "execution_count": 16,
   "metadata": {
    "colab": {
     "base_uri": "https://localhost:8080/"
    },
    "id": "Cq8zgZOMpk5T",
    "outputId": "ceb1269b-619d-402a-c661-f5be5f4d2154"
   },
   "outputs": [
    {
     "name": "stdout",
     "output_type": "stream",
     "text": [
      "imposimpable zi0m^phoo0si0m^phee0bq2l^ 0.8998170905229547\n",
      "an zxx0n^ 0.9999723434448242\n",
      "Phonemizing foo0n^ma3j^si2ng^ 0.9670598633875819\n",
      "moly moo0lii2 0.9946674603302696\n",
      "Holy koo0lii2 0.8580347047766398\n",
      "text the3k^ 0.9997178918501177\n",
      "U juu0 0.9999997615814209\n",
      "S zee3t^ 0.981033572241528\n",
      "English zi0ng^li3t^ 0.9131958080733699\n"
     ]
    }
   ],
   "source": [
    "# Phonemize a list of texts and pull out model predictions with confidence scores\n",
    "result = phonemizer.phonemise_list(['Phonemizing an US-English text is imposimpable!', 'Holy moly.'], lang='th')\n",
    "\n",
    "for word, pred in result.predictions.items():\n",
    "  print(f'{word} {pred.phonemes} {pred.confidence}')"
   ]
  },
  {
   "cell_type": "code",
   "execution_count": 5,
   "metadata": {
    "colab": {
     "base_uri": "https://localhost:8080/"
    },
    "id": "ylKahJLhpltv",
    "outputId": "93dfd4b0-58f9-4c30-f105-b9f8dec00a9f"
   },
   "outputs": [
    {
     "name": "stdout",
     "output_type": "stream",
     "text": [
      "oʊtɔrhɪnɑːlɛrɪŋgoʊlgɪst 0.6062305000504705\n",
      "\n",
      "<en_us> 1.0\n",
      "o 1.0\n",
      "ʊ 0.999997615814209\n",
      "t 1.0\n",
      "ɔ 0.8052271008491516\n",
      "r 0.9994328618049622\n",
      "h 1.0\n",
      "ɪ 0.9999969005584717\n",
      "n 1.0\n",
      "ɑ 0.9980535507202148\n",
      "ː 0.9757038354873657\n",
      "l 1.0\n",
      "ɛ 0.7834091186523438\n",
      "r 0.9998308420181274\n",
      "ɪ 0.9999746084213257\n",
      "ŋ 0.999996542930603\n",
      "g 0.9999998807907104\n",
      "o 0.999997615814209\n",
      "ʊ 0.9968417882919312\n",
      "l 1.0\n",
      "g 0.9992079138755798\n",
      "ɪ 0.9950146079063416\n",
      "s 0.9965135455131531\n",
      "t 1.0\n",
      "<end> 1.0\n"
     ]
    }
   ],
   "source": [
    "# Print confidence per phoneme\n",
    "result = phonemizer.phonemise_list(['Otorhinolaryngologist'], lang='en_us')\n",
    "pred = result.predictions['Otorhinolaryngologist']\n",
    "\n",
    "print(f'{pred.phonemes} {pred.confidence}\\n')\n",
    "\n",
    "for c, prob in zip(pred.phoneme_tokens, pred.token_probs):\n",
    "  print(f'{c} {prob}')"
   ]
  }
 ],
 "metadata": {
  "colab": {
   "collapsed_sections": [],
   "name": "DP_Inference.ipynb",
   "provenance": []
  },
  "kernelspec": {
   "display_name": "Python [conda env:.conda-phonimizer]",
   "language": "python",
   "name": "conda-env-.conda-phonimizer-py"
  },
  "language_info": {
   "codemirror_mode": {
    "name": "ipython",
    "version": 3
   },
   "file_extension": ".py",
   "mimetype": "text/x-python",
   "name": "python",
   "nbconvert_exporter": "python",
   "pygments_lexer": "ipython3",
   "version": "3.10.16"
  }
 },
 "nbformat": 4,
 "nbformat_minor": 4
}
